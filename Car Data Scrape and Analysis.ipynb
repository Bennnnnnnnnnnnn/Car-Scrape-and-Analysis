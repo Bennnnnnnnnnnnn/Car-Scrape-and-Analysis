{
 "cells": [
  {
   "cell_type": "code",
   "execution_count": 38,
   "id": "3afbe9bd",
   "metadata": {},
   "outputs": [],
   "source": [
    "import requests\n",
    "from bs4 import BeautifulSoup\n",
    "import pandas as pd\n",
    "import matplotlib.pyplot as plt\n",
    "\n",
    "hyundai2009 = 90832"
   ]
  },
  {
   "cell_type": "code",
   "execution_count": null,
   "id": "a8ae09bd",
   "metadata": {},
   "outputs": [],
   "source": [
    "#scrape\n",
    "\n",
    "headers = {\"User-Agent\": \"Mozilla/5.0 (Windows NT 10.0; Win64; x64) AppleWebKit/537.36 (KHTML, like Gecko) Chrome/104.0.0.0 Safari/537.36\", \"Accept-Encoding\":\"gzip, deflate\", \"Accept\":\"text/html,application/xhtml+xml,application/xml;q=0.9,*/*;q=0.8\", \"DNT\":\"1\",\"Connection\":\"close\", \"Upgrade-Insecure-Requests\":\"1\"}\n",
    "    \n",
    "carNames = []\n",
    "carPrices = []\n",
    "carKMS = []\n",
    "\n",
    "for x in range(2000, 2010): #contains the year range minus the last year\n",
    "    r = requests.get(f'https://www.carsguide.com.au/buy-a-car/all-used/all-states/all-locations/all-bodytypes/all-makes/?priceTo=5000&yearFrom={x}&yearTo={x}&distanceFromMe=Melbourne,VIC')\n",
    "    soup = BeautifulSoup(r.content, 'lxml')\n",
    "    #pull the info\n",
    "    carList = soup.find_all('div', class_='carListing--content')\n",
    "    for item in carList:\n",
    "        for names in item.find_all('h5', {'class' : \"carListing--textHeading\" }):\n",
    "            carNames.append(names.get_text())\n",
    "    for item in carList:\n",
    "        for prices in item.find_all('div', {'class' : 'carListing--priceDetails'}):\n",
    "            carPrices.append(prices.get_text().strip()[1:7].replace(',', ''))\n",
    "    for item in carList:\n",
    "        for kms in item.find_all('li', class_='icon icon-gauge'):\n",
    "            carKMS.append(kms.get_text().replace(',','').strip()[:].replace('km', ''))\n",
    "\n",
    "\n",
    "#this is the resulting dictionary\n",
    "item = {\n",
    "    \"Car Name\": carNames,\n",
    "    \"Price\": carPrices,\n",
    "    'kms': carKMS\n",
    "}\n",
    "\n",
    "#bit of dataframe cleaning, also turns it into a csv\n",
    "carInfoDF = pd.DataFrame(item)\n",
    "carInfoDF = carInfoDF.replace(r'\\n', '', regex=True)\n",
    "\n",
    "carInfoDF.to_csv('CarsGuideScrape.csv', index = False, encoding='utf-8')\n"
   ]
  },
  {
   "cell_type": "code",
   "execution_count": 83,
   "id": "8a16d836",
   "metadata": {},
   "outputs": [
    {
     "data": {
      "text/plain": [
       "<matplotlib.collections.PathCollection at 0x1d2aa0a2550>"
      ]
     },
     "execution_count": 83,
     "metadata": {},
     "output_type": "execute_result"
    },
    {
     "data": {
      "image/png": "[encoded data removed]",
      "text/plain": [
       "<Figure size 432x288 with 1 Axes>"
      ]
     },
     "metadata": {
      "needs_background": "light"
     },
     "output_type": "display_data"
    }
   ],
   "source": [
    "#read the csv, turn it back into a dataframe and get to the analysis\n",
    "\n",
    "carDF = pd.read_csv(r'C:\\Users\\ranga\\Desktop\\PyProjects\\CarsGuideScrape.csv')\n",
    "\n",
    "#add a new column to utilise the date of the cars\n",
    "carDF['Date'] = carDF['Car Name'].astype(str).str[:4]\n",
    "\n",
    "#turn the date column into a number so that maths will work on it\n",
    "carDF['Date'] = pd.to_numeric(carDF['Date'])\n",
    "\n",
    "#visualize the data\n",
    "plt.scatter('Date', 'Price', data = carDF, alpha = 0.5)\n"
   ]
  },
  {
   "cell_type": "code",
   "execution_count": 91,
   "id": "92ecfd7a",
   "metadata": {},
   "outputs": [
    {
     "name": "stdout",
     "output_type": "stream",
     "text": [
      "Date\n",
      "2000    0.640410\n",
      "2001    0.021106\n",
      "2002    0.016163\n",
      "2003    0.018040\n",
      "2004    0.017561\n",
      "2005    0.019812\n",
      "2006    0.021822\n",
      "2007    1.100380\n",
      "2008    0.021905\n",
      "2009    0.025935\n",
      "Name: perKilometer, dtype: float64\n"
     ]
    }
   ],
   "source": [
    "#work out the $$ value of each kilometer of a used car\n",
    "carDF['perKilometer'] = carDF['Price'] / carDF['kms']\n",
    "#group by year and take the average\n",
    "carDFAVG = carDF.groupby('Date')['perKilometer'].mean()\n",
    "print(carDFAVG)"
   ]
  },
  {
   "cell_type": "code",
   "execution_count": 39,
   "id": "ed0cacc8",
   "metadata": {},
   "outputs": [
    {
     "name": "stdout",
     "output_type": "stream",
     "text": [
      "2355.72792\n"
     ]
    }
   ],
   "source": [
    "#initial attempt, 2009 Hyundai with 90832 kms\n",
    "carPrice1st = hyundai2009 * .025935\n",
    "print(carPrice1st)"
   ]
  },
  {
   "cell_type": "code",
   "execution_count": 40,
   "id": "93cfe157",
   "metadata": {},
   "outputs": [
    {
     "name": "stdout",
     "output_type": "stream",
     "text": [
      "Date\n",
      "2000    8.116883\n",
      "2001    0.039867\n",
      "2007    7.041318\n",
      "2009    0.049640\n",
      "Name: perKilometer, dtype: float64\n"
     ]
    }
   ],
   "source": [
    "#this is a bit low, lets try something else\n",
    "carlowKs = carDF[carDF['kms'] < 100000]\n",
    "\n",
    "#lets try it again with these other cars\n",
    "carlowKsAVG = carlowKs.groupby('Date')['perKilometer'].mean()\n",
    "print(carlowKsAVG)"
   ]
  },
  {
   "cell_type": "code",
   "execution_count": 41,
   "id": "568a2e40",
   "metadata": {},
   "outputs": [
    {
     "name": "stdout",
     "output_type": "stream",
     "text": [
      "4508.900479999999\n"
     ]
    }
   ],
   "source": [
    "carPrice2nd = hyundai2009 * .049640\n",
    "print(carPrice2nd)"
   ]
  },
  {
   "cell_type": "code",
   "execution_count": null,
   "id": "45b41244",
   "metadata": {},
   "outputs": [],
   "source": []
  }
 ],
 "metadata": {
  "kernelspec": {
   "display_name": "Python 3 (ipykernel)",
   "language": "python",
   "name": "python3"
  },
  "language_info": {
   "codemirror_mode": {
    "name": "ipython",
    "version": 3
   },
   "file_extension": ".py",
   "mimetype": "text/x-python",
   "name": "python",
   "nbconvert_exporter": "python",
   "pygments_lexer": "ipython3",
   "version": "3.9.7"
  }
 },
 "nbformat": 4,
 "nbformat_minor": 5
}
